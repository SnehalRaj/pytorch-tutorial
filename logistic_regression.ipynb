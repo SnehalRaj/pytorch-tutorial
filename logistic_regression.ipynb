{
 "cells": [
  {
   "cell_type": "code",
   "execution_count": 2,
   "metadata": {},
   "outputs": [],
   "source": [
    "import torch\n",
    "import torch.nn as nn\n",
    "import torchvision\n",
    "import torchvision.transforms as transforms"
   ]
  },
  {
   "cell_type": "code",
   "execution_count": 3,
   "metadata": {},
   "outputs": [
    {
     "name": "stderr",
     "output_type": "stream",
     "text": [
      "\r",
      "0it [00:00, ?it/s]"
     ]
    },
    {
     "name": "stdout",
     "output_type": "stream",
     "text": [
      "Downloading http://yann.lecun.com/exdb/mnist/train-images-idx3-ubyte.gz to ../../data/MNIST/raw/train-images-idx3-ubyte.gz\n"
     ]
    },
    {
     "name": "stderr",
     "output_type": "stream",
     "text": [
      "100%|█████████▉| 9904128/9912422 [00:54<00:00, 187525.32it/s]"
     ]
    },
    {
     "name": "stdout",
     "output_type": "stream",
     "text": [
      "Extracting ../../data/MNIST/raw/train-images-idx3-ubyte.gz\n"
     ]
    },
    {
     "name": "stderr",
     "output_type": "stream",
     "text": [
      "\n",
      "0it [00:00, ?it/s]\u001b[A"
     ]
    },
    {
     "name": "stdout",
     "output_type": "stream",
     "text": [
      "Downloading http://yann.lecun.com/exdb/mnist/train-labels-idx1-ubyte.gz to ../../data/MNIST/raw/train-labels-idx1-ubyte.gz\n"
     ]
    },
    {
     "name": "stderr",
     "output_type": "stream",
     "text": [
      "\n",
      "  0%|          | 0/28881 [00:00<?, ?it/s]\u001b[A\n",
      " 28%|██▊       | 8192/28881 [00:00<00:00, 31909.06it/s]\u001b[A\n",
      " 85%|████████▌ | 24576/28881 [00:01<00:00, 37616.56it/s]\u001b[A\n",
      "32768it [00:01, 32086.18it/s]                           \u001b[A\n",
      "0it [00:00, ?it/s]\u001b[A"
     ]
    },
    {
     "name": "stdout",
     "output_type": "stream",
     "text": [
      "Extracting ../../data/MNIST/raw/train-labels-idx1-ubyte.gz\n",
      "Downloading http://yann.lecun.com/exdb/mnist/t10k-images-idx3-ubyte.gz to ../../data/MNIST/raw/t10k-images-idx3-ubyte.gz\n"
     ]
    },
    {
     "name": "stderr",
     "output_type": "stream",
     "text": [
      "\n",
      "  0%|          | 0/1648877 [00:00<?, ?it/s]\u001b[A\n",
      "  0%|          | 8192/1648877 [00:00<00:57, 28780.18it/s]\u001b[A\n",
      "  1%|▏         | 24576/1648877 [00:01<00:48, 33794.68it/s]\u001b[A\n",
      "  3%|▎         | 57344/1648877 [00:01<00:36, 43254.39it/s]\u001b[A\n",
      "  6%|▋         | 106496/1648877 [00:01<00:27, 56228.46it/s]\u001b[A\n",
      "  9%|▉         | 155648/1648877 [00:01<00:20, 71167.83it/s]\u001b[A\n",
      " 12%|█▏        | 204800/1648877 [00:02<00:16, 87436.50it/s]\u001b[A\n",
      " 15%|█▌        | 253952/1648877 [00:02<00:13, 104089.29it/s]\u001b[A\n",
      " 18%|█▊        | 303104/1648877 [00:02<00:11, 120114.41it/s]\u001b[A\n",
      " 21%|██▏       | 352256/1648877 [00:02<00:09, 134618.77it/s]\u001b[A\n",
      " 24%|██▍       | 401408/1648877 [00:03<00:08, 146947.77it/s]\u001b[A\n",
      " 27%|██▋       | 450560/1648877 [00:03<00:07, 157090.68it/s]\u001b[A\n",
      " 30%|███       | 499712/1648877 [00:03<00:06, 165101.43it/s]\u001b[A\n",
      " 33%|███▎      | 548864/1648877 [00:03<00:06, 171199.59it/s]\u001b[A\n",
      " 36%|███▋      | 598016/1648877 [00:04<00:05, 175764.54it/s]\u001b[A\n",
      " 39%|███▉      | 647168/1648877 [00:04<00:05, 179148.83it/s]\u001b[A\n",
      " 42%|████▏     | 696320/1648877 [00:04<00:05, 181549.38it/s]\u001b[A\n",
      " 45%|████▌     | 745472/1648877 [00:05<00:04, 183296.02it/s]\u001b[A\n",
      " 48%|████▊     | 794624/1648877 [00:05<00:04, 184461.48it/s]\u001b[A\n",
      " 51%|█████     | 843776/1648877 [00:05<00:04, 185289.21it/s]\u001b[A\n",
      " 54%|█████▍    | 892928/1648877 [00:05<00:04, 185936.17it/s]\u001b[A\n",
      " 57%|█████▋    | 942080/1648877 [00:06<00:03, 186392.54it/s]\u001b[A\n",
      " 60%|██████    | 991232/1648877 [00:06<00:03, 186684.07it/s]\u001b[A\n",
      " 63%|██████▎   | 1040384/1648877 [00:06<00:03, 186904.49it/s]\u001b[A\n",
      " 66%|██████▌   | 1089536/1648877 [00:06<00:02, 187016.80it/s]\u001b[A\n",
      " 69%|██████▉   | 1138688/1648877 [00:07<00:02, 187162.70it/s]\u001b[A\n",
      " 72%|███████▏  | 1187840/1648877 [00:07<00:02, 187247.01it/s]\u001b[A\n",
      " 75%|███████▌  | 1236992/1648877 [00:07<00:02, 187313.62it/s]\u001b[A\n",
      " 78%|███████▊  | 1286144/1648877 [00:07<00:01, 187274.30it/s]\u001b[A\n",
      " 81%|████████  | 1335296/1648877 [00:08<00:01, 187122.27it/s]\u001b[A\n",
      " 84%|████████▍ | 1384448/1648877 [00:08<00:01, 187275.87it/s]\u001b[A\n",
      " 87%|████████▋ | 1433600/1648877 [00:08<00:01, 187377.67it/s]\u001b[A\n",
      " 90%|████████▉ | 1482752/1648877 [00:08<00:00, 187497.33it/s]\u001b[A\n",
      " 93%|█████████▎| 1531904/1648877 [00:09<00:00, 187590.29it/s]\u001b[A\n",
      " 96%|█████████▋| 1589248/1648877 [00:09<00:00, 195746.69it/s]\u001b[A\n",
      " 99%|█████████▉| 1638400/1648877 [00:09<00:00, 193237.91it/s]\u001b[A\n",
      "\n",
      "0it [00:00, ?it/s]\u001b[A\u001b[A"
     ]
    },
    {
     "name": "stdout",
     "output_type": "stream",
     "text": [
      "Extracting ../../data/MNIST/raw/t10k-images-idx3-ubyte.gz\n",
      "Downloading http://yann.lecun.com/exdb/mnist/t10k-labels-idx1-ubyte.gz to ../../data/MNIST/raw/t10k-labels-idx1-ubyte.gz\n"
     ]
    },
    {
     "name": "stderr",
     "output_type": "stream",
     "text": [
      "\n",
      "\n",
      "  0%|          | 0/4542 [00:00<?, ?it/s]\u001b[A\u001b[A\n",
      "\n",
      "8192it [00:00, 15285.92it/s]            \u001b[A\u001b[A"
     ]
    },
    {
     "name": "stdout",
     "output_type": "stream",
     "text": [
      "Extracting ../../data/MNIST/raw/t10k-labels-idx1-ubyte.gz\n",
      "Processing...\n",
      "Done!\n"
     ]
    },
    {
     "name": "stderr",
     "output_type": "stream",
     "text": [
      "9920512it [01:10, 187525.32it/s]                             \n",
      "1654784it [00:24, 193237.91it/s]                             \u001b[A"
     ]
    }
   ],
   "source": [
    "# Hyper-parameters \n",
    "input_size = 784\n",
    "num_classes = 10\n",
    "num_epochs = 5\n",
    "batch_size = 100\n",
    "learning_rate = 0.001\n",
    "\n",
    "# MNIST dataset (images and labels)\n",
    "train_dataset = torchvision.datasets.MNIST(root='../../data', \n",
    "                                           train=True, \n",
    "                                           transform=transforms.ToTensor(),\n",
    "                                           download=True)\n",
    "\n",
    "test_dataset = torchvision.datasets.MNIST(root='../../data', \n",
    "                                          train=False, \n",
    "                                          transform=transforms.ToTensor())\n",
    "\n",
    "# Data loader (input pipeline)\n",
    "train_loader = torch.utils.data.DataLoader(dataset=train_dataset, \n",
    "                                           batch_size=batch_size, \n",
    "                                           shuffle=True)\n",
    "\n",
    "test_loader = torch.utils.data.DataLoader(dataset=test_dataset, \n",
    "                                          batch_size=batch_size, \n",
    "                                          shuffle=False)"
   ]
  },
  {
   "cell_type": "code",
   "execution_count": 4,
   "metadata": {},
   "outputs": [
    {
     "name": "stdout",
     "output_type": "stream",
     "text": [
      "Epoch [1/5], Step [100/600], Loss: 2.1849\n",
      "Epoch [1/5], Step [200/600], Loss: 2.0933\n",
      "Epoch [1/5], Step [300/600], Loss: 2.0026\n",
      "Epoch [1/5], Step [400/600], Loss: 1.9286\n",
      "Epoch [1/5], Step [500/600], Loss: 1.8645\n",
      "Epoch [1/5], Step [600/600], Loss: 1.7653\n",
      "Epoch [2/5], Step [100/600], Loss: 1.6923\n",
      "Epoch [2/5], Step [200/600], Loss: 1.6060\n",
      "Epoch [2/5], Step [300/600], Loss: 1.5417\n",
      "Epoch [2/5], Step [400/600], Loss: 1.5957\n",
      "Epoch [2/5], Step [500/600], Loss: 1.5448\n",
      "Epoch [2/5], Step [600/600], Loss: 1.4188\n",
      "Epoch [3/5], Step [100/600], Loss: 1.4685\n",
      "Epoch [3/5], Step [200/600], Loss: 1.3824\n",
      "Epoch [3/5], Step [300/600], Loss: 1.3665\n",
      "Epoch [3/5], Step [400/600], Loss: 1.3434\n",
      "Epoch [3/5], Step [500/600], Loss: 1.2488\n",
      "Epoch [3/5], Step [600/600], Loss: 1.3232\n",
      "Epoch [4/5], Step [100/600], Loss: 1.1863\n",
      "Epoch [4/5], Step [200/600], Loss: 1.1430\n",
      "Epoch [4/5], Step [300/600], Loss: 1.0801\n",
      "Epoch [4/5], Step [400/600], Loss: 1.1556\n",
      "Epoch [4/5], Step [500/600], Loss: 1.1223\n",
      "Epoch [4/5], Step [600/600], Loss: 1.0486\n",
      "Epoch [5/5], Step [100/600], Loss: 1.1645\n",
      "Epoch [5/5], Step [200/600], Loss: 1.1482\n",
      "Epoch [5/5], Step [300/600], Loss: 1.0525\n",
      "Epoch [5/5], Step [400/600], Loss: 1.0630\n",
      "Epoch [5/5], Step [500/600], Loss: 1.0516\n",
      "Epoch [5/5], Step [600/600], Loss: 1.0485\n"
     ]
    }
   ],
   "source": [
    "# Logistic regression model\n",
    "model = nn.Linear(input_size, num_classes)\n",
    "\n",
    "# Loss and optimizer\n",
    "# nn.CrossEntropyLoss() computes softmax internally\n",
    "criterion = nn.CrossEntropyLoss()  \n",
    "optimizer = torch.optim.SGD(model.parameters(), lr=learning_rate)  \n",
    "\n",
    "# Train the model\n",
    "total_step = len(train_loader)\n",
    "for epoch in range(num_epochs):\n",
    "    for i, (images, labels) in enumerate(train_loader):\n",
    "        # Reshape images to (batch_size, input_size)\n",
    "        images = images.reshape(-1, 28*28)\n",
    "        \n",
    "        # Forward pass\n",
    "        outputs = model(images)\n",
    "        loss = criterion(outputs, labels)\n",
    "        \n",
    "        # Backward and optimize\n",
    "        optimizer.zero_grad()\n",
    "        loss.backward()\n",
    "        optimizer.step()\n",
    "        \n",
    "        if (i+1) % 100 == 0:\n",
    "            print ('Epoch [{}/{}], Step [{}/{}], Loss: {:.4f}' \n",
    "                   .format(epoch+1, num_epochs, i+1, total_step, loss.item()))"
   ]
  },
  {
   "cell_type": "code",
   "execution_count": 5,
   "metadata": {},
   "outputs": [
    {
     "name": "stdout",
     "output_type": "stream",
     "text": [
      "Accuracy of the model on the 10000 test images: 82 %\n"
     ]
    }
   ],
   "source": [
    "# Test the model\n",
    "# In test phase, we don't need to compute gradients (for memory efficiency)\n",
    "with torch.no_grad():\n",
    "    correct = 0\n",
    "    total = 0\n",
    "    for images, labels in test_loader:\n",
    "        images = images.reshape(-1, 28*28)\n",
    "        outputs = model(images)\n",
    "        _, predicted = torch.max(outputs.data, 1)\n",
    "        total += labels.size(0)\n",
    "        correct += (predicted == labels).sum()\n",
    "\n",
    "    print('Accuracy of the model on the 10000 test images: {} %'.format(100 * correct / total))\n",
    "\n",
    "# Save the model checkpoint\n",
    "torch.save(model.state_dict(), 'model.ckpt')"
   ]
  },
  {
   "cell_type": "code",
   "execution_count": null,
   "metadata": {},
   "outputs": [],
   "source": []
  }
 ],
 "metadata": {
  "kernelspec": {
   "display_name": "Python 3",
   "language": "python",
   "name": "python3"
  },
  "language_info": {
   "codemirror_mode": {
    "name": "ipython",
    "version": 3
   },
   "file_extension": ".py",
   "mimetype": "text/x-python",
   "name": "python",
   "nbconvert_exporter": "python",
   "pygments_lexer": "ipython3",
   "version": "3.7.3"
  }
 },
 "nbformat": 4,
 "nbformat_minor": 2
}
